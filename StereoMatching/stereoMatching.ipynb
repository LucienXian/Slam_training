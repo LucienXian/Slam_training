{
 "cells": [
  {
   "cell_type": "code",
   "execution_count": 1,
   "metadata": {},
   "outputs": [],
   "source": [
    "import numpy as np\n",
    "from PIL import Image\n",
    "import cv2\n",
    "import matplotlib.pyplot as plt"
   ]
  },
  {
   "cell_type": "code",
   "execution_count": 2,
   "metadata": {},
   "outputs": [
    {
     "name": "stdout",
     "output_type": "stream",
     "text": [
      "['ArtL', 'Motorcycle', 'MotorcycleE', 'Vintage', 'Playroom', 'Jadeplant', 'Shelves', 'Piano', 'PianoL', 'Adirondack', 'Teddy', 'Recycle', 'PlaytableP', 'Pipes', 'Playtable']\n"
     ]
    }
   ],
   "source": [
    "import os\n",
    "TRAIN_DIR = \"MiddEval3/trainingQ/\"\n",
    "IMAGE_LEFT, IMAGE_RIGHT = \"im0.png\", \"im1.png\"\n",
    "TRAIN_LISTS = [filename for filename in os.listdir(TRAIN_DIR)]\n",
    "print(TRAIN_LISTS)"
   ]
  },
  {
   "cell_type": "code",
   "execution_count": 3,
   "metadata": {},
   "outputs": [],
   "source": [
    "def distortion(img1, img2):\n",
    "    sift = cv2.xfeatures2d.SIFT_create()\n",
    "    # find the keypoints and descriptors with SIFT\n",
    "    kp1, des1 = sift.detectAndCompute(img1,None)\n",
    "    kp2, des2 = sift.detectAndCompute(img2,None)\n",
    "    # FLANN parameters\n",
    "    FLANN_INDEX_KDTREE = 1\n",
    "    index_params = dict(algorithm = FLANN_INDEX_KDTREE, trees = 5)\n",
    "    search_params = dict(checks=50)\n",
    "    flann = cv2.FlannBasedMatcher(index_params,search_params)\n",
    "    matches = flann.knnMatch(des1,des2,k=2)\n",
    "    \n",
    "    good = []\n",
    "    pts1 = []\n",
    "    pts2 = []\n",
    "    # ratio test as per Lowe's paper\n",
    "    for i,(m,n) in enumerate(matches):\n",
    "        if m.distance < 0.85*n.distance:\n",
    "            good.append(m)\n",
    "            pts2.append(kp2[m.trainIdx].pt)\n",
    "            pts1.append(kp1[m.queryIdx].pt)\n",
    "    \n",
    "    pts1 = np.int32(pts1)\n",
    "    pts2 = np.int32(pts2)\n",
    "    F, mask = cv2.findFundamentalMat(pts1,pts2,cv2.RANSAC)\n",
    "    # We select only inlier points\n",
    "    pts1 = pts1[mask.ravel()==1]\n",
    "    pts2 = pts2[mask.ravel()==1]\n",
    "    pts1 = pts1.reshape(-1, 1, 2)\n",
    "    pts2 = pts2.reshape(-1, 1, 2)\n",
    "    \n",
    "    return pts1, pts2, F, mask\n",
    "\n",
    "# distortion()"
   ]
  },
  {
   "cell_type": "code",
   "execution_count": 4,
   "metadata": {},
   "outputs": [],
   "source": [
    "def rectify_img(imgL, imgR, output_predix):\n",
    "    img1 = cv2.imread(imgL,1)  #queryimage # left image\n",
    "    img2 = cv2.imread(imgR,1) #trainimage # right image\n",
    "    imgL_pts, imgR_pts, F_mat, mask = distortion(img1, img2)\n",
    "    imsize = (img1.shape[1], img1.shape[0])\n",
    "    print(imsize)\n",
    "    _, H1, H2 = cv2.stereoRectifyUncalibrated(imgL_pts,\n",
    "                                              imgR_pts,\n",
    "                                              F_mat, imsize)\n",
    "    dst11 = cv2.warpPerspective(img1,H1,imsize)\n",
    "    dst22 = cv2.warpPerspective(img2,H2,imsize)\n",
    "    print(dst11.shape, dst22.shape)\n",
    "    out_l, out_r = output_predix+\"L.png\", output_predix+\"R.png\"\n",
    "    cv2.imwrite(out_l, dst11)\n",
    "    cv2.imwrite(out_r, dst22)\n",
    "    return [out_l, out_r]"
   ]
  },
  {
   "cell_type": "code",
   "execution_count": 5,
   "metadata": {},
   "outputs": [],
   "source": [
    "def stereo_match(imgL, imgR, kernel=6, search_range=30, name=\"default.png\"):\n",
    "    w, h = imgL.size\n",
    "    left, right = np.asarray(imgL), np.asarray(imgR)\n",
    "    depth = np.zeros((h, w), np.uint8) # PIL and numpy have different indexing systems.\n",
    "    \n",
    "    #depth.shape = h, w\n",
    "    half_kernel = kernel//2\n",
    "    depth_offset = 255//search_range\n",
    "    for y in range(half_kernel, h-half_kernel):\n",
    "        print(\".\", end=\"\", flush=True)\n",
    "        for x in range(half_kernel, w-half_kernel):\n",
    "            optimal_offset = 0\n",
    "            ssd_min = 256*256\n",
    "            for search_idx in range(search_range):\n",
    "                ssd = 0\n",
    "                for u in range(-half_kernel, half_kernel):\n",
    "                    for v in range(-half_kernel, half_kernel):\n",
    "                        ssd += (int(left[y+u, x+v]) - int(right[y+u, x+v-search_idx]))**2\n",
    "                if ssd < ssd_min:\n",
    "                    ssd_min = ssd\n",
    "                    optimal_offset = search_idx\n",
    "            depth[y, x] = optimal_offset * depth_offset\n",
    "    print(depth)\n",
    "    Image.fromarray(depth).save(name)"
   ]
  },
  {
   "cell_type": "code",
   "execution_count": 6,
   "metadata": {},
   "outputs": [
    {
     "name": "stdout",
     "output_type": "stream",
     "text": [
      "MiddEval3/trainingQ/ArtL/\n"
     ]
    },
    {
     "ename": "NameError",
     "evalue": "name 'res' is not defined",
     "output_type": "error",
     "traceback": [
      "\u001b[0;31m---------------------------------------------------------------------------\u001b[0m",
      "\u001b[0;31mNameError\u001b[0m                                 Traceback (most recent call last)",
      "\u001b[0;32m<ipython-input-6-d8bb80363096>\u001b[0m in \u001b[0;36m<module>\u001b[0;34m\u001b[0m\n\u001b[1;32m      8\u001b[0m     \u001b[0mimr\u001b[0m \u001b[0;34m=\u001b[0m \u001b[0mImage\u001b[0m\u001b[0;34m.\u001b[0m\u001b[0mopen\u001b[0m\u001b[0;34m(\u001b[0m\u001b[0mright_img\u001b[0m\u001b[0;34m)\u001b[0m\u001b[0;34m.\u001b[0m\u001b[0mconvert\u001b[0m\u001b[0;34m(\u001b[0m\u001b[0;34m\"L\"\u001b[0m\u001b[0;34m)\u001b[0m\u001b[0;34m\u001b[0m\u001b[0m\n\u001b[1;32m      9\u001b[0m     \u001b[0;31m# res = rectify_img(left_img, right_img, train_dir+\"Rectified\")\u001b[0m\u001b[0;34m\u001b[0m\u001b[0;34m\u001b[0m\u001b[0m\n\u001b[0;32m---> 10\u001b[0;31m     \u001b[0mRectified_list\u001b[0m\u001b[0;34m.\u001b[0m\u001b[0mappend\u001b[0m\u001b[0;34m(\u001b[0m\u001b[0mres\u001b[0m\u001b[0;34m)\u001b[0m\u001b[0;34m\u001b[0m\u001b[0m\n\u001b[0m\u001b[1;32m     11\u001b[0m     \u001b[0;31m# stereo_match(imgL=iml, imgR=imr, name=train_dir+\"output.png\")\u001b[0m\u001b[0;34m\u001b[0m\u001b[0;34m\u001b[0m\u001b[0m\n\u001b[1;32m     12\u001b[0m \u001b[0mprint\u001b[0m\u001b[0;34m(\u001b[0m\u001b[0mRectified_list\u001b[0m\u001b[0;34m)\u001b[0m\u001b[0;34m\u001b[0m\u001b[0m\n",
      "\u001b[0;31mNameError\u001b[0m: name 'res' is not defined"
     ]
    }
   ],
   "source": [
    "Rectified_list = []\n",
    "for train in TRAIN_LISTS:\n",
    "    train_dir = TRAIN_DIR + train + \"/\"\n",
    "    print(train_dir)\n",
    "    left_img = train_dir + IMAGE_LEFT\n",
    "    right_img = train_dir + IMAGE_RIGHT\n",
    "    iml = Image.open(left_img).convert(\"L\")\n",
    "    imr = Image.open(right_img).convert(\"L\")\n",
    "    # res = rectify_img(left_img, right_img, train_dir+\"Rectified\")\n",
    "    # Rectified_list.append(res)\n",
    "    # stereo_match(imgL=iml, imgR=imr, name=train_dir+\"output.png\")\n",
    "# print(Rectified_list)"
   ]
  },
  {
   "cell_type": "code",
   "execution_count": 8,
   "metadata": {},
   "outputs": [
    {
     "name": "stdout",
     "output_type": "stream",
     "text": [
      "...........................................................................................................................................................................................................................................................................................................................................................................................................................................................................................................[[0 0 0 ... 0 0 0]\n",
      " [0 0 0 ... 0 0 0]\n",
      " [0 0 0 ... 0 0 0]\n",
      " ...\n",
      " [0 0 0 ... 0 0 0]\n",
      " [0 0 0 ... 0 0 0]\n",
      " [0 0 0 ... 0 0 0]]\n"
     ]
    }
   ],
   "source": [
    "iml = Image.open('MiddEval3/trainingQ/MotorcycleE/RectifiedL.png').convert(\"L\")\n",
    "imr = Image.open('MiddEval3/trainingQ/MotorcycleE/RectifiedR.png').convert(\"L\")\n",
    "stereo_match(imgL=iml, imgR=imr, name=\"MiddEval3/trainingQ/MotorcycleE/output_v2.png\")"
   ]
  },
  {
   "cell_type": "code",
   "execution_count": null,
   "metadata": {},
   "outputs": [],
   "source": []
  }
 ],
 "metadata": {
  "kernelspec": {
   "display_name": "Python 3",
   "language": "python",
   "name": "python3"
  },
  "language_info": {
   "codemirror_mode": {
    "name": "ipython",
    "version": 3
   },
   "file_extension": ".py",
   "mimetype": "text/x-python",
   "name": "python",
   "nbconvert_exporter": "python",
   "pygments_lexer": "ipython3",
   "version": "3.5.2"
  }
 },
 "nbformat": 4,
 "nbformat_minor": 2
}
