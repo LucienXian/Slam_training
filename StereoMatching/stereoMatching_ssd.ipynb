{
 "cells": [
  {
   "cell_type": "code",
   "execution_count": 1,
   "metadata": {},
   "outputs": [],
   "source": [
    "import numpy as np\n",
    "from PIL import Image\n",
    "import cv2"
   ]
  },
  {
   "cell_type": "code",
   "execution_count": 2,
   "metadata": {},
   "outputs": [
    {
     "name": "stdout",
     "output_type": "stream",
     "text": [
      "['ArtL', 'Motorcycle', 'MotorcycleE', 'Vintage', 'Playroom', 'Jadeplant', 'Shelves', 'Piano', 'PianoL', 'Adirondack', 'Teddy', 'Recycle', 'PlaytableP', 'Pipes', 'Playtable']\n"
     ]
    }
   ],
   "source": [
    "import os\n",
    "TRAIN_DIR = \"MiddEval3/trainingQ/\"\n",
    "IMAGE_LEFT, IMAGE_RIGHT = \"im0.png\", \"im1.png\"\n",
    "TRAIN_LISTS = [filename for filename in os.listdir(TRAIN_DIR)]\n",
    "print(TRAIN_LISTS)"
   ]
  },
  {
   "cell_type": "code",
   "execution_count": 3,
   "metadata": {},
   "outputs": [],
   "source": [
    "def distortion():\n",
    "    SIFT = cv2.xfeatures2d.SIFT_create()\n",
    "\n",
    "distortion()"
   ]
  },
  {
   "cell_type": "code",
   "execution_count": 56,
   "metadata": {},
   "outputs": [],
   "source": [
    "def stereo_match(imgL, imgR, kernel=6, search_range=30, name=\"default.png\"):\n",
    "    w, h = imgL.size\n",
    "    left, right = np.asarray(imgL), np.asarray(imgR)\n",
    "    depth = np.zeros((h, w), np.uint8) # PIL and numpy have different indexing systems.\n",
    "    \n",
    "    #depth.shape = h, w\n",
    "    half_kernel = kernel//2\n",
    "    depth_offset = 255//search_range\n",
    "    for y in range(half_kernel, h-half_kernel):\n",
    "        print(\".\", end=\"\", flush=True)\n",
    "        for x in range(half_kernel, w-half_kernel):\n",
    "            optimal_offset = 0\n",
    "            ssd_min = 256*256\n",
    "            for search_idx in range(search_range):\n",
    "                ssd = 0\n",
    "                for u in range(-half_kernel, half_kernel):\n",
    "                    for v in range(-half_kernel, half_kernel):\n",
    "                        ssd += (int(left[y+u, x+v]) - int(right[y+u, x+v-search_idx]))**2\n",
    "                if ssd < ssd_min:\n",
    "                    ssd_min = ssd\n",
    "                    optimal_offset = search_idx\n",
    "            depth[y, x] = optimal_offset * depth_offset\n",
    "    print(depth)\n",
    "    Image.fromarray(depth).save(name)"
   ]
  },
  {
   "cell_type": "code",
   "execution_count": 57,
   "metadata": {},
   "outputs": [
    {
     "name": "stdout",
     "output_type": "stream",
     "text": [
      "MiddEval3/trainingQ/Motorcycle/\n",
      "...........................................................................................................................................................................................................................................................................................................................................................................................................................................................................................................[[0 0 0 ... 0 0 0]\n",
      " [0 0 0 ... 0 0 0]\n",
      " [0 0 0 ... 0 0 0]\n",
      " ...\n",
      " [0 0 0 ... 0 0 0]\n",
      " [0 0 0 ... 0 0 0]\n",
      " [0 0 0 ... 0 0 0]]\n",
      "MiddEval3/trainingQ/MotorcycleE/\n",
      "...........................................................................................................................................................................................................................................................................................................................................................................................................................................................................................................[[0 0 0 ... 0 0 0]\n",
      " [0 0 0 ... 0 0 0]\n",
      " [0 0 0 ... 0 0 0]\n",
      " ...\n",
      " [0 0 0 ... 0 0 0]\n",
      " [0 0 0 ... 0 0 0]\n",
      " [0 0 0 ... 0 0 0]]\n",
      "MiddEval3/trainingQ/Vintage/\n",
      "..........................................................................................................................................................................................................................................................................................................................................................................................................................................................................................[[0 0 0 ... 0 0 0]\n",
      " [0 0 0 ... 0 0 0]\n",
      " [0 0 0 ... 0 0 0]\n",
      " ...\n",
      " [0 0 0 ... 0 0 0]\n",
      " [0 0 0 ... 0 0 0]\n",
      " [0 0 0 ... 0 0 0]]\n",
      "MiddEval3/trainingQ/Playroom/\n",
      "......................................................................................................................................................................................................................................................................................................................................................................................................................................................................................[[0 0 0 ... 0 0 0]\n",
      " [0 0 0 ... 0 0 0]\n",
      " [0 0 0 ... 0 0 0]\n",
      " ...\n",
      " [0 0 0 ... 0 0 0]\n",
      " [0 0 0 ... 0 0 0]\n",
      " [0 0 0 ... 0 0 0]]\n"
     ]
    }
   ],
   "source": [
    "for train in TRAIN_LISTS[1:5]:\n",
    "    train_dir = TRAIN_DIR + train + \"/\"\n",
    "    print(train_dir)\n",
    "    left_img = train_dir + IMAGE_LEFT\n",
    "    right_img = train_dir + IMAGE_RIGHT\n",
    "    iml = Image.open(left_img).convert(\"L\")\n",
    "    imr = Image.open(right_img).convert(\"L\")\n",
    "    # stereo_match(imgL=iml, imgR=imr, name=train_dir+\"output.png\")"
   ]
  },
  {
   "cell_type": "code",
   "execution_count": null,
   "metadata": {},
   "outputs": [],
   "source": []
  }
 ],
 "metadata": {
  "kernelspec": {
   "display_name": "Python 3",
   "language": "python",
   "name": "python3"
  },
  "language_info": {
   "codemirror_mode": {
    "name": "ipython",
    "version": 3
   },
   "file_extension": ".py",
   "mimetype": "text/x-python",
   "name": "python",
   "nbconvert_exporter": "python",
   "pygments_lexer": "ipython3",
   "version": "3.5.2"
  }
 },
 "nbformat": 4,
 "nbformat_minor": 2
}
