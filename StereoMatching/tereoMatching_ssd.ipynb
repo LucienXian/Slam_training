{
 "cells": [
  {
   "cell_type": "code",
   "execution_count": 3,
   "metadata": {},
   "outputs": [],
   "source": [
    "import numpy as np\n",
    "from PIL import Image"
   ]
  },
  {
   "cell_type": "code",
   "execution_count": 7,
   "metadata": {},
   "outputs": [
    {
     "name": "stdout",
     "output_type": "stream",
     "text": [
      "['ArtL', 'Motorcycle', 'MotorcycleE', 'Vintage', 'Playroom', 'Jadeplant', 'Shelves', 'Piano', 'PianoL', 'Adirondack', 'Teddy', 'Recycle', 'PlaytableP', 'Pipes', 'Playtable']\n"
     ]
    }
   ],
   "source": [
    "import os\n",
    "TRAIN_DIR = \"MiddEval3/trainingQ/\"\n",
    "IMAGE_LEFT, IMAGE_RIGHT = \"im0.png\", \"im1.png\"\n",
    "TRAIN_LISTS = [filename for filename in os.listdir(TRAIN_DIR)]\n",
    "print(TRAIN_LISTS)"
   ]
  },
  {
   "cell_type": "code",
   "execution_count": 9,
   "metadata": {},
   "outputs": [
    {
     "name": "stdout",
     "output_type": "stream",
     "text": [
      "<PIL.Image.Image image mode=L size=347x277 at 0x7F38ECCE72B0> <PIL.Image.Image image mode=L size=347x277 at 0x7F38ECD5D320>\n"
     ]
    }
   ],
   "source": [
    "for train in TRAIN_LISTS[:1]:\n",
    "    train_dir = TRAIN_DIR + train + \"/\"\n",
    "    left_img = train_dir + IMAGE_LEFT\n",
    "    right_img = train_dir + IMAGE_RIGHT\n",
    "    iml = Image.open(left_img).convert(\"L\")\n",
    "    imr = Image.open(right_img).convert(\"L\")\n",
    "    print(iml, imr)"
   ]
  },
  {
   "cell_type": "code",
   "execution_count": null,
   "metadata": {},
   "outputs": [],
   "source": []
  }
 ],
 "metadata": {
  "kernelspec": {
   "display_name": "Python 3",
   "language": "python",
   "name": "python3"
  },
  "language_info": {
   "codemirror_mode": {
    "name": "ipython",
    "version": 3
   },
   "file_extension": ".py",
   "mimetype": "text/x-python",
   "name": "python",
   "nbconvert_exporter": "python",
   "pygments_lexer": "ipython3",
   "version": "3.5.2"
  }
 },
 "nbformat": 4,
 "nbformat_minor": 2
}
